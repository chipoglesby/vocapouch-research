{
 "cells": [
  {
   "cell_type": "markdown",
   "metadata": {},
   "source": [
    "This is part of the research we conduct at [Vocapouch](https://vocapouch.com). Our service is dedicated to language learners. The results of the study contained in this notebook were described [on our blog](https://blog.vocapouch.com/which-word-does-rhyme-the-most-ebd66dedcce7)."
   ]
  },
  {
   "cell_type": "markdown",
   "metadata": {},
   "source": [
    "# Which word has the most rhymes and why it is \"carburetion\"?\n",
    "\n",
    "Author: Roman Kierzkowski\n",
    "\n",
    "## Cleaning up the data\n",
    "\n",
    "In our pursuit of finding the word which has the most rhymes, we start with [ISLEX](http://isle.illinois.edu/sst/data/g2ps/) database of word pronunciations. We clean it out, by removing all proper nouns. Later, we use [pysle](https://github.com/timmahrt/pysle) to parse the file."
   ]
  },
  {
   "cell_type": "code",
   "execution_count": 1,
   "metadata": {
    "collapsed": false
   },
   "outputs": [],
   "source": [
    "from __future__ import print_function\n",
    "from pysle import isletool\n",
    "from itertools import groupby\n",
    "\n",
    "import io\n",
    "\n",
    "excluded_pos = {'nnp', 'nnps'} # exclude proper nouns\n",
    "\n",
    "def extract_root_pos(pos):\n",
    "    index = pos.find('_')\n",
    "    return pos[:index] if index != -1 else pos\n",
    "\n",
    "def filter_out_proper_nouns(source, dest):\n",
    "    with io.open(source, \"r\", encoding='utf-8') as inp:\n",
    "        with io.open(dest, \"w\", encoding='utf-8') as outp:\n",
    "            for line in inp:\n",
    "                s = line.find('(')\n",
    "                e = line.find(')')\n",
    "                pos = line[s+1:e].split(',') # extract and split\n",
    "                pos = { extract_root_pos(p) for p in pos }\n",
    "                if (not pos & excluded_pos) or (pos - excluded_pos): # not proper noun or proper noun that is also regular word like brown\n",
    "                    outp.write(line)\n",
    "\n",
    "filter_out_proper_nouns('ISLEdict.txt', 'ISLEdict_npn.txt')\n",
    "\n",
    "isleDict = isletool.LexicalTool('ISLEdict_npn.txt')"
   ]
  },
  {
   "cell_type": "markdown",
   "metadata": {},
   "source": [
    "For further processing, we take only single words. We also skip the records with a hyphen. We make a list of tuples containing: word, pronunciation and the index of an accented vowel."
   ]
  },
  {
   "cell_type": "code",
   "execution_count": 3,
   "metadata": {
    "collapsed": false
   },
   "outputs": [
    {
     "name": "stdout",
     "output_type": "stream",
     "text": [
      "Total 206321 words, sigle words 126862, with accent 124958, non-vowels accented 0.\n"
     ]
    }
   ],
   "source": [
    "def more_than_one(word):\n",
    "    return '-' in word or '_' in word\n",
    "\n",
    "def flatten(syllables):\n",
    "    return [ phoneme for syllable in syllables for phoneme in syllable ]\n",
    "\n",
    "def parse_pronun(data):\n",
    "    total = len(data.keys())\n",
    "    single = 0\n",
    "    accented = 0\n",
    "    not_vowels = 0\n",
    "    \n",
    "    result = []\n",
    "\n",
    "    words = data.keys()\n",
    "    words.sort()\n",
    "\n",
    "    for word in words:\n",
    "        records = data[word]\n",
    "        if not more_than_one(word):\n",
    "            single+=1\n",
    "            was_accented = False\n",
    "            for record in records:\n",
    "                parsed, accented_sylables, accented_vovel  = isletool._parsePronunciation(record[0])[0]\n",
    "                if accented_sylables:\n",
    "                    was_accented = True\n",
    "                    accent_index = sum(len(x) for x in parsed[0:accented_sylables[0]]) + accented_vovel[0]\n",
    "                    pronunc = flatten(parsed)\n",
    "                    if pronunc[accent_index][1:] in isletool.vowelList:\n",
    "                        item = (word, pronunc, accent_index)\n",
    "                        result.append(item)\n",
    "                    else:\n",
    "                        not_vowels+=1\n",
    "            if was_accented:\n",
    "                accented+=1\n",
    "    \n",
    "    return (total, single, accented, not_vowels, result)\n",
    "\n",
    "total, single, accented, not_vowels, pronun_records = parse_pronun(isleDict.data) \n",
    "\n",
    "print(\"Total %s words, sigle words %s, with accent %s, non-vowels accented %s.\" % (total, single, accented, not_vowels))"
   ]
  },
  {
   "cell_type": "markdown",
   "metadata": {},
   "source": [
    "To make it more usable in further code, we create additional a lookup dictionary, with mapping from the words to the list of pronunciations."
   ]
  },
  {
   "cell_type": "code",
   "execution_count": 6,
   "metadata": {
    "collapsed": false
   },
   "outputs": [],
   "source": [
    "pronun_records.sort(key=lambda x: (x[0], ''.join(x[1])))\n",
    "pronun_dict = dict((k, list(v)) for k, v in groupby(pronun_records, key=lambda x: x[0]))"
   ]
  },
  {
   "cell_type": "code",
   "execution_count": 7,
   "metadata": {
    "collapsed": false
   },
   "outputs": [
    {
     "name": "stdout",
     "output_type": "stream",
     "text": [
      "love => lˈʌv (with accent at 2. phonem)\n"
     ]
    }
   ],
   "source": [
    "def present_record(r):\n",
    "    return \"%s => %s (with accent at %s. phonem)\" % (r[0], ''.join(r[1]), r[2] + 1)\n",
    "    \n",
    "print(present_record(pronun_dict['love'][0]))"
   ]
  },
  {
   "cell_type": "markdown",
   "metadata": {},
   "source": [
    "We get some basic statistics about the data set."
   ]
  },
  {
   "cell_type": "code",
   "execution_count": 8,
   "metadata": {
    "collapsed": false
   },
   "outputs": [
    {
     "name": "stdout",
     "output_type": "stream",
     "text": [
      "Unique words: 124958 Average pronunciations per word: 1.16413514941\n"
     ]
    }
   ],
   "source": [
    "def mean(numbers):\n",
    "    return float(sum(numbers)) / max(len(numbers), 1)\n",
    "\n",
    "unique_words = len(pronun_dict.keys())\n",
    "average_pronun = mean([len(p) for p in pronun_dict.values()])\n",
    "\n",
    "print(\"Unique words: {} Average pronunciations per word: {}\".format(unique_words, average_pronun))"
   ]
  },
  {
   "cell_type": "markdown",
   "metadata": {},
   "source": [
    "## Matching the rhymes\n",
    "\n",
    "According to [Wikipedia](https://en.wikipedia.org/wiki/Perfect_and_imperfect_rhymes):\n",
    "\n",
    "\"Perfect rhyme […] is a form of rhyme between two words or phrases, satisfying the following conditions:\n",
    "- The stressed vowel sound in both words must be identical, as well as any subsequent sounds. […]\n",
    "- The articulation that precedes the vowel in the words must differ. […]\"\n",
    "\n",
    "For example, *love* and *glove* are the perfect rhymes because their match both conditions, but *knight* and *night* are not because they don’t fulfill the second rule.\n",
    "\n",
    "The following functions are used to check if two words are rhymes."
   ]
  },
  {
   "cell_type": "code",
   "execution_count": 9,
   "metadata": {
    "collapsed": true
   },
   "outputs": [],
   "source": [
    "def same_ending(r1, r2):\n",
    "    w1, p1, a1 = r1 # word, pronunciation, accent\n",
    "    w2, p2, a2 = r2\n",
    "    \n",
    "    return p1[a1:] == p2[a2:]\n",
    "\n",
    "def diffrent_begining(r1, r2):\n",
    "    w1, p1, a1 = r1 # word, pronunciation, accent\n",
    "    w2, p2, a2 = r2\n",
    "    \n",
    "    return p1[:a1] != p2[:a2]\n",
    "\n",
    "def is_rhyme(r1, r2):\n",
    "    w1, p1, a1 = r1 # word, pronunciation, accent\n",
    "    w2, p2, a2 = r2\n",
    "    \n",
    "    return w1 != w2 and same_ending(r1, r2) and diffrent_begining(r1, r2)"
   ]
  },
  {
   "cell_type": "markdown",
   "metadata": {},
   "source": [
    "Some tests:"
   ]
  },
  {
   "cell_type": "code",
   "execution_count": 10,
   "metadata": {
    "collapsed": false
   },
   "outputs": [],
   "source": [
    "love = pronun_dict['love'][0]\n",
    "glove = pronun_dict['glove'][0]\n",
    "\n",
    "assert(is_rhyme(love, glove))\n",
    "\n",
    "uncurb = pronun_dict['uncurb'][0]\n",
    "superb = pronun_dict['superb'][1]\n",
    "\n",
    "assert(is_rhyme(uncurb, superb))\n",
    "\n",
    "knight = pronun_dict['knight'][0]\n",
    "night = pronun_dict['night'][0]\n",
    "\n",
    "assert(not is_rhyme(knight, night))"
   ]
  },
  {
   "cell_type": "markdown",
   "metadata": {},
   "source": [
    "All we have to do now is to check which words rhymes. Do we have to check each pair? That would give us 123970 ^ 2 = 15 368 560 900 checks. That would take a lot of time. Instead, we need to use a trick. We sort the list of records according to inverted pronunciation. This gives a list where the words that have the same endings are next to each other. So all we have to do is to check each pair within those small subgroups of words with the same ending."
   ]
  },
  {
   "cell_type": "code",
   "execution_count": 11,
   "metadata": {
    "collapsed": false
   },
   "outputs": [],
   "source": [
    "def find_rhymes(records):\n",
    "    result = {}\n",
    "    \n",
    "    records.sort(key=lambda x: list(reversed(x[1])))\n",
    "    for i, record in enumerate(records):\n",
    "        j = i + 1\n",
    "        while j < len(records) and same_ending(record, records[j]):\n",
    "            r1 = record\n",
    "            r2 = records[j]\n",
    "            if is_rhyme(r1, r2):\n",
    "                w1 = r1[0]\n",
    "                w2 = r2[0]\n",
    "                result.setdefault(w1, set({})).add(w2)\n",
    "                result.setdefault(w2, set({})).add(w1)\n",
    "            j+=1\n",
    "    return result\n",
    "\n",
    "rhymes = find_rhymes(pronun_records)"
   ]
  },
  {
   "cell_type": "markdown",
   "metadata": {},
   "source": [
    "It works!"
   ]
  },
  {
   "cell_type": "code",
   "execution_count": 197,
   "metadata": {
    "collapsed": false
   },
   "outputs": [
    {
     "data": {
      "text/plain": [
       "{u'above',\n",
       " u'belove',\n",
       " u'deneuve',\n",
       " u'dove',\n",
       " u'glove',\n",
       " u'gov',\n",
       " u'hereof',\n",
       " u\"o'glove\",\n",
       " u'shove',\n",
       " u'thereof',\n",
       " u'whereof'}"
      ]
     },
     "execution_count": 197,
     "metadata": {},
     "output_type": "execute_result"
    }
   ],
   "source": [
    "rhymes['love']"
   ]
  },
  {
   "cell_type": "markdown",
   "metadata": {},
   "source": [
    "And here are some tests:"
   ]
  },
  {
   "cell_type": "code",
   "execution_count": 199,
   "metadata": {
    "collapsed": false
   },
   "outputs": [],
   "source": [
    "assert('night'  in rhymes['height'])\n",
    "assert('knight' in rhymes['height'])\n",
    "\n",
    "assert('night'  not in rhymes['knight'])\n",
    "assert('knight' not in rhymes['night'])"
   ]
  },
  {
   "cell_type": "markdown",
   "metadata": {},
   "source": [
    "## The most popular word is *carburetion*. Why?"
   ]
  },
  {
   "cell_type": "code",
   "execution_count": 12,
   "metadata": {
    "collapsed": false
   },
   "outputs": [
    {
     "data": {
      "text/plain": [
       "[(u'carburetion', 1400),\n",
       " (u'modernization', 1390),\n",
       " (u'obligation', 1382),\n",
       " (u'ration', 1381),\n",
       " (u'ventilation', 1380),\n",
       " (u'distillation', 1380),\n",
       " (u'ordination', 1378),\n",
       " (u'concatenation', 1378),\n",
       " (u'incoordination', 1378),\n",
       " (u'detonation', 1378)]"
      ]
     },
     "execution_count": 12,
     "metadata": {},
     "output_type": "execute_result"
    }
   ],
   "source": [
    "rhymes_counts = [ (word, len(word_rhymes)) for word, word_rhymes in rhymes.iteritems() ]\n",
    "rhymes_counts.sort(key=lambda x: -x[1])\n",
    "\n",
    "rhymes_counts[0:10]"
   ]
  },
  {
   "cell_type": "code",
   "execution_count": 13,
   "metadata": {
    "collapsed": false
   },
   "outputs": [
    {
     "data": {
      "text/plain": [
       "[u'expostulation',\n",
       " u'activation',\n",
       " u'dotation',\n",
       " u'replication',\n",
       " u'appropriation',\n",
       " u'gratification',\n",
       " u'disorientation',\n",
       " u'reduplication',\n",
       " u'ovation',\n",
       " u'accentuation']"
      ]
     },
     "execution_count": 13,
     "metadata": {},
     "output_type": "execute_result"
    }
   ],
   "source": [
    "list(rhymes['carburetion'])[0:10]"
   ]
  },
  {
   "cell_type": "markdown",
   "metadata": {},
   "source": [
    "The carburetion has exactly 1400 rhymes. But hey, why other words that rhyme with carburetion don’t have the same amount of rhymes? Take for example the second best modernization with 1390 rhymes. They both rhymes with each other, so why they don’t have an exact number of rhymes? \n",
    "\n",
    "It is due to the fact that both of them two pronunciations:\n",
    "\n",
    "* carburetion: **kˌɑɹbəɹˈeiʃn̩** and **kˌɑɹbjɚˈiʃn̩**,\n",
    "* modernization: **mˌɑd˺ɚnəzˈeiʃn̩** and **mˌɑd˺ɚnɑɪzˈeiʃə**.\n",
    "\n",
    "The accented vowel is marked with an apostrophe. We can see that both carburetion and modernization share the same ending: ˈeiʃn which brings them most of their rhymes — exactly 1371. The other pronunciations bring them 29 and 19 rhymes respectively. That’s where the difference comes from."
   ]
  },
  {
   "cell_type": "code",
   "execution_count": 14,
   "metadata": {
    "collapsed": false
   },
   "outputs": [
    {
     "name": "stdout",
     "output_type": "stream",
     "text": [
      "carburetion => kˌɑɹbjɚˈiʃn̩ (with accent at 7. phonem)\n",
      "29\n",
      "carburetion => kˌɑɹbəɹˈeiʃn̩ (with accent at 7. phonem)\n",
      "1371\n",
      "-------\n",
      "modernization => mˌɑd˺ɚnɑɪzˈeiʃə (with accent at 8. phonem)\n",
      "19\n",
      "modernization => mˌɑd˺ɚnəzˈeiʃn̩ (with accent at 8. phonem)\n",
      "1371\n"
     ]
    }
   ],
   "source": [
    "def pronunc_hist(pronunciations, word):\n",
    "    word_pronunciations = pronunciations[word]\n",
    "    result = [0] * len(word_pronunciations)\n",
    "    count = [ set({}) for _ in word_pronunciations ]\n",
    "    \n",
    "    \n",
    "    for r in rhymes[word]:\n",
    "        for i, lead in enumerate(word_pronunciations):\n",
    "            for p in pronunciations[r]:\n",
    "                if is_rhyme(lead, p):\n",
    "                    result[i]+=1\n",
    "                    count[i].add(r)\n",
    "                    \n",
    "    return (word_pronunciations, [len(c) for c in count])\n",
    "    \n",
    "       \n",
    "def print_pronunc_hist(pronunciations, word):        \n",
    "    word_pronunciations, counts = pronunc_hist(pronunciations, word)\n",
    "\n",
    "    for i, p in enumerate(word_pronunciations):\n",
    "        print(present_record(p))\n",
    "        print(counts[i])\n",
    "\n",
    "\n",
    "print_pronunc_hist(pronun_dict, 'carburetion')\n",
    "print('-------')\n",
    "print_pronunc_hist(pronun_dict, 'modernization')"
   ]
  },
  {
   "cell_type": "markdown",
   "metadata": {},
   "source": [
    "## The most ryhming endings\n",
    "\n",
    "Let's check which word ending (from a stressed vowel to an end of a word) is shared by the biggest number of words."
   ]
  },
  {
   "cell_type": "code",
   "execution_count": 15,
   "metadata": {
    "collapsed": false
   },
   "outputs": [],
   "source": [
    "def ending(record):\n",
    "    _, pronunciation, accent = record\n",
    "    \n",
    "    return ''.join(pronunciation[accent:])\n",
    "\n",
    "def rhyme_groups(records):\n",
    "    result = {}\n",
    "    records.sort(key=lambda x: list(reversed(x[1])))\n",
    "     \n",
    "    for i, record in enumerate(records):\n",
    "        word = record[0]\n",
    "        result.setdefault(ending(record), set({})).add(word)\n",
    "        \n",
    "    return result\n",
    "\n",
    "groups = rhyme_groups(pronun_records)"
   ]
  },
  {
   "cell_type": "code",
   "execution_count": 16,
   "metadata": {
    "collapsed": false
   },
   "outputs": [
    {
     "name": "stdout",
     "output_type": "stream",
     "text": [
      "ˈeiʃn̩      1372 [u'continuation', u'gustation', u'gestation', u'denuclearization', u'stagnation']\n",
      "ˈi           480 [u'mammee', u'jinni', u'franchisee', u'dupee', u'bee']\n",
      "ˈei          455 [u'bellay', u'coulee', u'allay', u'formee', u'ricochet']\n",
      "ˈɑlədʒi      359 [u'patrology', u'paleontology', u'paleopedology', u'hypnology', u'amphibology']\n",
      "ˈɛt          351 [u'barrette', u'bett', u'stet', u'marchette', u'revet']\n",
      "ˈeiʃn̩z      291 [u'explorations', u'gyrations', u'strangulations', u'accusations', u'federations']\n",
      "ˈu           288 [u'doo', u'timbuctoo', u'pew', u'linyu', u'detenu']\n",
      "ˈin          277 [u'unclean', u'marine', u'squireen', u'imipramine', u'achene']\n",
      "ˈoʊsɪs       267 [u'pollenosis', u'spirochaetosis', u'erythroblastosis', u'acidosis', u'osteoarthrosis']\n",
      "ˈɪt˺ɪk       265 [u'osteitic', u'poliomyelitic', u'pisolitic', u'scleritic', u'dyophysitic']\n",
      "ˈæt˺ɪk       252 [u'technocratic', u'suprahepatic', u'epistatic', u'apochromatic', u'thematic']\n",
      "ˈoʊ          246 [u'inlow', u'tarot', u'go', u'oho', u'low']\n",
      "ˈɛt˺ɪk       245 [u'parasympathetic', u'antipyretic', u'copasetic', u'pathogenetic', u'agamogenetic']\n",
      "ˈɛl          234 [u'mirelle', u'nepl', u'bedel', u'fernandel', u'sydell']\n",
      "ˈɑnɪk        226 [u'diplophonic', u'sardonic', u'telegonic', u'agonic', u'radiotelephonic']\n",
      "ˈeiʃəs       224 [u'crassulaceous', u'cornaceous', u'mimosaceous', u'smilacaceous', u'ceraceous']\n",
      "ˈɑ           214 [u'mehitzah', u'araxa', u'moskva', u'ca', u'beqaa']\n",
      "ˈɪʃn̩        203 [u'bipartition', u'addition', u'derequisition', u'petition', u'electrodeposition']\n",
      "ˈɑn          202 [u'daman', u'upon', u'alon', u'taiwan', u'hindustan']\n",
      "ˈiz          196 [u'angolese', u'nominees', u'journalese', u'sinise', u'ceylonese']\n"
     ]
    }
   ],
   "source": [
    "from random import shuffle\n",
    "\n",
    "groups_list = [ (e, len(words)) for e, words in groups.iteritems() ]\n",
    "groups_list.sort(key=lambda x: -x[1])\n",
    "\n",
    "for e, c in groups_list[:20]:\n",
    "    sample = list(groups[e])\n",
    "    shuffle(sample)\n",
    "    print(u'{:<10} {:>5} {}'.format(e.strip(), c, sample[:5]))"
   ]
  },
  {
   "cell_type": "markdown",
   "metadata": {
    "collapsed": true
   },
   "source": [
    "## Summary\n",
    "\n",
    "You may dispute that **carburetion** is not the word with the most rhymes. You may question the completeness of the dataset, but you have to admit: the **ˈeiʃn̩** ending is the leader of rhymes."
   ]
  }
 ],
 "metadata": {
  "celltoolbar": "Raw Cell Format",
  "kernelspec": {
   "display_name": "Python 2",
   "language": "python",
   "name": "python2"
  },
  "language_info": {
   "codemirror_mode": {
    "name": "ipython",
    "version": 2
   },
   "file_extension": ".py",
   "mimetype": "text/x-python",
   "name": "python",
   "nbconvert_exporter": "python",
   "pygments_lexer": "ipython2",
   "version": "2.7.10"
  }
 },
 "nbformat": 4,
 "nbformat_minor": 1
}
