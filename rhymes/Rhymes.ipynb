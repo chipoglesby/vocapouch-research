{
 "cells": [
  {
   "cell_type": "markdown",
   "metadata": {},
   "source": [
    "This is part of research we conduct at [Vocapouch](https://vocapouch.com). Our service is dedicated to language learners. The results of the study contained in this notebook was discribed [on our blog](https://blog.vocapouch.com/do-20-pages-of-a-book-gives-you-90-of-its-words-795a405afe70)."
   ]
  },
  {
   "cell_type": "markdown",
   "metadata": {},
   "source": [
    "# Which word has the most rhymes and why it is \"carburetion\"?\n",
    "\n",
    "Author: Roman Kierzkowski"
   ]
  },
  {
   "cell_type": "code",
   "execution_count": 189,
   "metadata": {
    "collapsed": false
   },
   "outputs": [],
   "source": [
    "from __future__ import print_function\n",
    "from pysle import isletool\n",
    "from itertools import groupby\n",
    "\n",
    "import io\n",
    "\n",
    "excluded_pos = {'nnp', 'nnps'} # exclude proper nouns\n",
    "\n",
    "def extract_root_pos(pos):\n",
    "    index = pos.find('_')\n",
    "    return pos[:index] if index != -1 else pos\n",
    "\n",
    "def filter_out_proper_nouns(source, dest):\n",
    "    with io.open(source, \"r\", encoding='utf-8') as inp:\n",
    "        with io.open(dest, \"w\", encoding='utf-8') as outp:\n",
    "            for line in inp:\n",
    "                s = line.find('(')\n",
    "                e = line.find(')')\n",
    "                pos = line[s+1:e].split(',') # extract and split\n",
    "                pos = { extract_root_pos(p) for p in pos }\n",
    "                if (not pos & excluded_pos) or (pos - excluded_pos): # not proper noun or proper noun that is also regular word like brown\n",
    "                    outp.write(line)\n",
    "\n",
    "filter_out_proper_nouns('ISLEdict.txt', 'ISLEdict_npn.txt')\n",
    "\n",
    "isleDict = isletool.LexicalTool('ISLEdict_npn.txt')"
   ]
  },
  {
   "cell_type": "code",
   "execution_count": 173,
   "metadata": {
    "collapsed": false
   },
   "outputs": [
    {
     "data": {
      "text/plain": [
       "[(u'# d\\u0292 \\u02ccu . l i . \\u02c8\\xe6 . n \\u0259 #', [])]"
      ]
     },
     "execution_count": 173,
     "metadata": {},
     "output_type": "execute_result"
    }
   ],
   "source": [
    "isleDict.data['juliana']"
   ]
  },
  {
   "cell_type": "code",
   "execution_count": 190,
   "metadata": {
    "collapsed": false
   },
   "outputs": [
    {
     "name": "stdout",
     "output_type": "stream",
     "text": [
      "Total 206321 words, sigle words 126862, with accent 123970, non-vowels accented 0.\n"
     ]
    }
   ],
   "source": [
    "def more_than_one(word):\n",
    "    return '-' in word or '_' in word\n",
    "\n",
    "def flatten(syllables):\n",
    "    return [ phoneme for syllable in syllables for phoneme in syllable ]\n",
    "\n",
    "def parse_pronun(data):\n",
    "    total = len(data.keys())\n",
    "    single = 0\n",
    "    accented = 0\n",
    "    not_vowels = 0\n",
    "    \n",
    "    result = []\n",
    "\n",
    "    words = data.keys()\n",
    "    words.sort()\n",
    "\n",
    "    for word in words:\n",
    "        records = data[word]\n",
    "        if not more_than_one(word):\n",
    "            single+=1\n",
    "            was_accented = False\n",
    "            not_proper_noun = ( r for r in records if 'nnp' not in r[1] or 'nn' in r[1])\n",
    "            for record in not_proper_noun:\n",
    "                parsed, accented_sylables, accented_vovel  = isletool._parsePronunciation(record[0])[0]\n",
    "                if accented_sylables:\n",
    "                    was_accented = True\n",
    "                    accent_index = sum(len(x) for x in parsed[0:accented_sylables[0]]) + accented_vovel[0]\n",
    "                    pronunc = flatten(parsed)\n",
    "                    if pronunc[accent_index][1:] in isletool.vowelList:\n",
    "                        item = (word, pronunc, accent_index)\n",
    "                        result.append(item)\n",
    "                    else:\n",
    "                        not_vowels+=1\n",
    "            if was_accented:\n",
    "                accented+=1\n",
    "    \n",
    "    return (total, single, accented, not_vowels, result)\n",
    "\n",
    "total, single, accented, not_vowels, pronun_records = parse_pronun(isleDict.data) \n",
    "\n",
    "print(\"Total %s words, sigle words %s, with accent %s, non-vowels accented %s.\" % (total, single, accented, not_vowels))"
   ]
  },
  {
   "cell_type": "code",
   "execution_count": 191,
   "metadata": {
    "collapsed": false
   },
   "outputs": [],
   "source": [
    "pronun_records.sort(key=lambda x: (x[0], ''.join(x[1])))\n",
    "pronun_dict = dict((k, list(v)) for k, v in groupby(pronun_records, key=lambda x: x[0]))"
   ]
  },
  {
   "cell_type": "code",
   "execution_count": 246,
   "metadata": {
    "collapsed": false
   },
   "outputs": [
    {
     "name": "stdout",
     "output_type": "stream",
     "text": [
      "Unique words: 123970 Average pronunciations per word: 1.16260385577\n"
     ]
    }
   ],
   "source": [
    "def mean(numbers):\n",
    "    return float(sum(numbers)) / max(len(numbers), 1)\n",
    "\n",
    "unique_words = len(pronun_dict.keys())\n",
    "average_pronun = mean([len(p) for p in pronun_dict.values()])\n",
    "\n",
    "print(\"Unique words: {} Average pronunciations per word: {}\".format(unique_words, average_pronun))"
   ]
  },
  {
   "cell_type": "code",
   "execution_count": 192,
   "metadata": {
    "collapsed": false
   },
   "outputs": [
    {
     "name": "stdout",
     "output_type": "stream",
     "text": [
      "love => lˈʌv (with accent at 2. phonem)\n"
     ]
    }
   ],
   "source": [
    "def present_record(r):\n",
    "    return \"%s => %s (with accent at %s. phonem)\" % (r[0], ''.join(r[1]), r[2] + 1)\n",
    "    \n",
    "print(present_record(pronun_dict['love'][0]))"
   ]
  },
  {
   "cell_type": "code",
   "execution_count": 193,
   "metadata": {
    "collapsed": true
   },
   "outputs": [],
   "source": [
    "def same_ending(r1, r2):\n",
    "    w1, p1, a1 = r1 # word, pronunciation, accent\n",
    "    w2, p2, a2 = r2\n",
    "    \n",
    "    return p1[a1:] == p2[a2:]\n",
    "\n",
    "def diffrent_begining(r1, r2):\n",
    "    w1, p1, a1 = r1 # word, pronunciation, accent\n",
    "    w2, p2, a2 = r2\n",
    "    \n",
    "    return p1[:a1] != p2[:a2]\n",
    "\n",
    "def is_rhyme(r1, r2):\n",
    "    w1, p1, a1 = r1 # word, pronunciation, accent\n",
    "    w2, p2, a2 = r2\n",
    "    \n",
    "    return w1 != w2 and same_ending(r1, r2) and diffrent_begining(r1, r2)"
   ]
  },
  {
   "cell_type": "code",
   "execution_count": 195,
   "metadata": {
    "collapsed": false
   },
   "outputs": [],
   "source": [
    "love = pronun_dict['love'][0]\n",
    "glove = pronun_dict['glove'][0]\n",
    "\n",
    "assert(is_rhyme(love, glove))\n",
    "\n",
    "uncurb = pronun_dict['uncurb'][0]\n",
    "superb = pronun_dict['superb'][1]\n",
    "\n",
    "assert(is_rhyme(uncurb, superb))\n",
    "\n",
    "knight = pronun_dict['knight'][0]\n",
    "night = pronun_dict['night'][0]\n",
    "\n",
    "assert(not is_rhyme(knight, night))"
   ]
  },
  {
   "cell_type": "code",
   "execution_count": 196,
   "metadata": {
    "collapsed": false
   },
   "outputs": [],
   "source": [
    "def find_rhymes(records):\n",
    "    result = {}\n",
    "    \n",
    "    records.sort(key=lambda x: list(reversed(x[1])))\n",
    "    for i, record in enumerate(records):\n",
    "        j = i + 1\n",
    "        while j < len(records) and same_ending(record, records[j]):\n",
    "            r1 = record\n",
    "            r2 = records[j]\n",
    "            if is_rhyme(r1, r2):\n",
    "                w1 = r1[0]\n",
    "                w2 = r2[0]\n",
    "                result.setdefault(w1, set({})).add(w2)\n",
    "                result.setdefault(w2, set({})).add(w1)\n",
    "            j+=1\n",
    "    return result\n",
    "\n",
    "rhymes = find_rhymes(pronun_records)"
   ]
  },
  {
   "cell_type": "code",
   "execution_count": 197,
   "metadata": {
    "collapsed": false
   },
   "outputs": [
    {
     "data": {
      "text/plain": [
       "{u'above',\n",
       " u'belove',\n",
       " u'deneuve',\n",
       " u'dove',\n",
       " u'glove',\n",
       " u'gov',\n",
       " u'hereof',\n",
       " u\"o'glove\",\n",
       " u'shove',\n",
       " u'thereof',\n",
       " u'whereof'}"
      ]
     },
     "execution_count": 197,
     "metadata": {},
     "output_type": "execute_result"
    }
   ],
   "source": [
    "rhymes['love']"
   ]
  },
  {
   "cell_type": "code",
   "execution_count": 199,
   "metadata": {
    "collapsed": false
   },
   "outputs": [],
   "source": [
    "assert('night'  in rhymes['height'])\n",
    "assert('knight' in rhymes['height'])\n",
    "\n",
    "assert('night'  not in rhymes['knight'])\n",
    "assert('knight' not in rhymes['night'])"
   ]
  },
  {
   "cell_type": "code",
   "execution_count": 235,
   "metadata": {
    "collapsed": false
   },
   "outputs": [
    {
     "data": {
      "text/plain": [
       "[(u'carburetion', 1400),\n",
       " (u'modernization', 1390),\n",
       " (u'obligation', 1382),\n",
       " (u'ration', 1381),\n",
       " (u'ventilation', 1380),\n",
       " (u'distillation', 1380),\n",
       " (u'ordination', 1378),\n",
       " (u'concatenation', 1378),\n",
       " (u'incoordination', 1378),\n",
       " (u'detonation', 1378)]"
      ]
     },
     "execution_count": 235,
     "metadata": {},
     "output_type": "execute_result"
    }
   ],
   "source": [
    "rhymes_counts = [ (word, len(word_rhymes)) for word, word_rhymes in rhymes.iteritems() ]\n",
    "rhymes_counts.sort(key=lambda x: -x[1])\n",
    "\n",
    "rhymes_counts[0:10]"
   ]
  },
  {
   "cell_type": "code",
   "execution_count": 234,
   "metadata": {
    "collapsed": false
   },
   "outputs": [
    {
     "data": {
      "text/plain": [
       "[u'expostulation',\n",
       " u'activation',\n",
       " u'dotation',\n",
       " u'replication',\n",
       " u'appropriation',\n",
       " u'gratification',\n",
       " u'disorientation',\n",
       " u'reduplication',\n",
       " u'ovation',\n",
       " u'accentuation']"
      ]
     },
     "execution_count": 234,
     "metadata": {},
     "output_type": "execute_result"
    }
   ],
   "source": [
    "list(rhymes['carburetion'])[0:10]"
   ]
  },
  {
   "cell_type": "code",
   "execution_count": 200,
   "metadata": {
    "collapsed": false
   },
   "outputs": [
    {
     "name": "stdout",
     "output_type": "stream",
     "text": [
      "carburetion => kˌɑɹbjɚˈiʃn̩ (with accent at 7. phonem)\n",
      "29\n",
      "carburetion => kˌɑɹbəɹˈeiʃn̩ (with accent at 7. phonem)\n",
      "1371\n",
      "-------\n",
      "modernization => mˌɑd˺ɚnɑɪzˈeiʃə (with accent at 8. phonem)\n",
      "19\n",
      "modernization => mˌɑd˺ɚnəzˈeiʃn̩ (with accent at 8. phonem)\n",
      "1371\n"
     ]
    }
   ],
   "source": [
    "def pronunc_hist(pronunciations, word):\n",
    "    word_pronunciations = pronunciations[word]\n",
    "    result = [0] * len(word_pronunciations)\n",
    "    count = [ set({}) for _ in word_pronunciations ]\n",
    "    \n",
    "    \n",
    "    for r in rhymes[word]:\n",
    "        for i, lead in enumerate(word_pronunciations):\n",
    "            for p in pronunciations[r]:\n",
    "                if is_rhyme(lead, p):\n",
    "                    result[i]+=1\n",
    "                    count[i].add(r)\n",
    "                    \n",
    "    return (word_pronunciations, [len(c) for c in count])\n",
    "    \n",
    "       \n",
    "def print_pronunc_hist(pronunciations, word):        \n",
    "    word_pronunciations, counts = pronunc_hist(pronunciations, word)\n",
    "\n",
    "    for i, p in enumerate(word_pronunciations):\n",
    "        print(present_record(p))\n",
    "        print(counts[i])\n",
    "\n",
    "\n",
    "print_pronunc_hist(pronun_dict, 'carburetion')\n",
    "print('-------')\n",
    "print_pronunc_hist(pronun_dict, 'modernization')"
   ]
  },
  {
   "cell_type": "code",
   "execution_count": 202,
   "metadata": {
    "collapsed": false
   },
   "outputs": [],
   "source": [
    "def ending(record):\n",
    "    _, pronunciation, accent = record\n",
    "    \n",
    "    return ''.join(pronunciation[accent:])\n",
    "\n",
    "def rhyme_groups(records):\n",
    "    result = {}\n",
    "    records.sort(key=lambda x: list(reversed(x[1])))\n",
    "     \n",
    "    for i, record in enumerate(records):\n",
    "        word = record[0]\n",
    "        result.setdefault(ending(record), set({})).add(word)\n",
    "        \n",
    "    return result\n",
    "\n",
    "groups = rhyme_groups(pronun_records)"
   ]
  },
  {
   "cell_type": "code",
   "execution_count": 256,
   "metadata": {
    "collapsed": false
   },
   "outputs": [
    {
     "name": "stdout",
     "output_type": "stream",
     "text": [
      "ˈeiʃn̩      1372 [u'gemmulation', u'croatian', u'socialization', u'intimidation', u'accumulation']\n",
      "ˈi           463 [u'advisee', u'expiree', u'malmedy', u'sadi', u'cheville']\n",
      "ˈei          446 [u'hogmanay', u'stray', u'palais', u'dache', u'yay']\n",
      "ˈɑlədʒi      359 [u'hieroglyphology', u'ideology', u'insectology', u'otology', u'ology']\n",
      "ˈɛt          347 [u'charrette', u'tete', u'chalmette', u'racette', u'chevette']\n",
      "ˈeiʃn̩z      285 [u'eliminations', u'originations', u'reverberations', u'explanations', u'incorporations']\n",
      "ˈu           283 [u'hasanlu', u'pew', u'unglue', u'tobu', u'mcknew']\n",
      "ˈin          276 [u'fifteen', u'mousseline', u'lopatin', u'tessin', u'tambourine']\n",
      "ˈoʊsɪs       267 [u'exostosis', u'cleptobiosis', u'actinobacillosis', u'mimosis', u'diorthosis']\n",
      "ˈɪt˺ɪk       265 [u'melanitic', u'glycolytic', u'antineuritic', u'erythrocytic', u'pisolitic']\n",
      "ˈæt˺ɪk       250 [u'electrostatic', u'fungistatic', u'panchromatic', u'orthochromatic', u'sterigmatic']\n",
      "ˈɛt˺ɪk       244 [u'psychogenetic', u'thermomagnetic', u'sociogenetic', u'theoretic', u'epeirogenetic']\n",
      "ˈoʊ          242 [u'cabo', u'sow', u'bateau', u'gaspereau', u'hallow']\n",
      "ˈɛl          232 [u'lassell', u'neufchatel', u'anwell', u'spirituel', u'materiel']\n",
      "ˈɑnɪk        225 [u'gnathonic', u'anharmonic', u'monophonic', u'histrionic', u'draconic']\n",
      "ˈeiʃəs       224 [u'sagacious', u'polygalaceous', u'bromeliaceous', u'saponaceous', u'pectinaceous']\n",
      "ˈɑ           212 [u'quebecois', u'kendo', u'pasha', u'refah', u'succah']\n",
      "ˈɪʃn̩        203 [u'commision', u'photocomposition', u'intermission', u'phonetician', u'intuition']\n",
      "ˈɑn          198 [u'monzaemon', u'lorestan', u'daane', u'denouement', u'taiwan']\n",
      "ˈiə          194 [u'eriboea', u'villa', u'judaea', u'euryclea', u'amalthaea']\n"
     ]
    }
   ],
   "source": [
    "from random import shuffle\n",
    "\n",
    "groups_list = [ (e, len(words)) for e, words in groups.iteritems() ]\n",
    "groups_list.sort(key=lambda x: -x[1])\n",
    "\n",
    "for e, c in groups_list[:20]:\n",
    "    sample = list(groups[e])\n",
    "    shuffle(sample)\n",
    "    print(u'{:<10} {:>5} {}'.format(e.strip(), c, sample[:5]))"
   ]
  },
  {
   "cell_type": "code",
   "execution_count": null,
   "metadata": {
    "collapsed": true
   },
   "outputs": [],
   "source": []
  }
 ],
 "metadata": {
  "celltoolbar": "Raw Cell Format",
  "kernelspec": {
   "display_name": "Python 2",
   "language": "python",
   "name": "python2"
  },
  "language_info": {
   "codemirror_mode": {
    "name": "ipython",
    "version": 2
   },
   "file_extension": ".py",
   "mimetype": "text/x-python",
   "name": "python",
   "nbconvert_exporter": "python",
   "pygments_lexer": "ipython2",
   "version": "2.7.10"
  }
 },
 "nbformat": 4,
 "nbformat_minor": 1
}
